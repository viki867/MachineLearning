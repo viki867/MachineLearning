{
  "nbformat": 4,
  "nbformat_minor": 0,
  "metadata": {
    "colab": {
      "private_outputs": true,
      "provenance": []
    },
    "kernelspec": {
      "name": "python3",
      "display_name": "Python 3"
    },
    "language_info": {
      "name": "python"
    }
  },
  "cells": [
    {
      "cell_type": "code",
      "execution_count": null,
      "metadata": {
        "id": "F7Y2TjiEr_xY"
      },
      "outputs": [],
      "source": [
        "import pandas as pd\n",
        "import numpy as np\n",
        "import matplotlib.pyplot as plt\n",
        "import seaborn as sns\n"
      ]
    },
    {
      "cell_type": "code",
      "source": [
        "data=pd.read_csv('new_card.csv')\n"
      ],
      "metadata": {
        "id": "R4FoMWD6sYMt"
      },
      "execution_count": null,
      "outputs": []
    },
    {
      "cell_type": "code",
      "source": [
        "data"
      ],
      "metadata": {
        "id": "OUp9hRMwslNt"
      },
      "execution_count": null,
      "outputs": []
    },
    {
      "cell_type": "code",
      "source": [
        "data.info()"
      ],
      "metadata": {
        "id": "S9iXXd7y3LR3"
      },
      "execution_count": null,
      "outputs": []
    },
    {
      "cell_type": "code",
      "source": [
        "data.drop(['Transaction date','Average Amount/transaction/day','isHighRiskCountry','Daily_chargeback_avg_amt','6_month_avg_chbk_amt','6-month_chbk_freq','Unnamed: 12'],axis=1,inplace=True)"
      ],
      "metadata": {
        "id": "8HHhLkeC3jIH"
      },
      "execution_count": null,
      "outputs": []
    },
    {
      "cell_type": "code",
      "source": [
        "data"
      ],
      "metadata": {
        "id": "fQ0kFzqc4EvY"
      },
      "execution_count": null,
      "outputs": []
    },
    {
      "cell_type": "code",
      "source": [
        "data['isFradulent'].unique()"
      ],
      "metadata": {
        "id": "bur6FvOCv8Gi"
      },
      "execution_count": null,
      "outputs": []
    },
    {
      "cell_type": "code",
      "source": [
        "data['isFradulent']=data['isFradulent'].map({'N':0,'Y':1})"
      ],
      "metadata": {
        "id": "-YQB17wJwHQ3"
      },
      "execution_count": null,
      "outputs": []
    },
    {
      "cell_type": "code",
      "source": [
        "data['isFradulent'].unique()"
      ],
      "metadata": {
        "id": "tMg-bR05wPi_"
      },
      "execution_count": null,
      "outputs": []
    },
    {
      "source": [
        "original_counts = data['isFradulent'].value_counts()\n",
        "print(original_counts)"
      ],
      "cell_type": "code",
      "metadata": {
        "id": "SdKn2pqFwcSO"
      },
      "execution_count": null,
      "outputs": []
    },
    {
      "source": [
        "yes_data = data[data['isFradulent'] == 1]\n",
        "print(yes_data)"
      ],
      "cell_type": "code",
      "metadata": {
        "id": "5dSLW3nTwnNF"
      },
      "execution_count": null,
      "outputs": []
    },
    {
      "cell_type": "code",
      "source": [
        "data.info()"
      ],
      "metadata": {
        "id": "4_4_xI8StnPv"
      },
      "execution_count": null,
      "outputs": []
    },
    {
      "cell_type": "code",
      "source": [
        "data['Is declined']=data['Is declined'].map({'N':0,'Y':1})"
      ],
      "metadata": {
        "id": "BPSz9fqtyFh9"
      },
      "execution_count": null,
      "outputs": []
    },
    {
      "cell_type": "code",
      "source": [
        "data['isForeignTransaction']=data['isForeignTransaction'].map({'N':0,'Y':1})"
      ],
      "metadata": {
        "id": "q95zxztB5BOm"
      },
      "execution_count": null,
      "outputs": []
    },
    {
      "cell_type": "code",
      "source": [
        "data.info()"
      ],
      "metadata": {
        "id": "eSSg8N-67ram"
      },
      "execution_count": null,
      "outputs": []
    },
    {
      "cell_type": "code",
      "source": [
        "x=data.iloc[:,:-1].values\n",
        "y=data.iloc[:,-1].values\n"
      ],
      "metadata": {
        "id": "foaCJQ2Xwsvj"
      },
      "execution_count": null,
      "outputs": []
    },
    {
      "cell_type": "code",
      "source": [
        "x"
      ],
      "metadata": {
        "id": "l75KZ02Tplx-"
      },
      "execution_count": null,
      "outputs": []
    },
    {
      "cell_type": "code",
      "source": [
        "y"
      ],
      "metadata": {
        "id": "SXc1P9VhpoJh"
      },
      "execution_count": null,
      "outputs": []
    },
    {
      "cell_type": "code",
      "source": [
        "from sklearn.linear_model import LogisticRegression\n",
        "from sklearn.metrics import accuracy_score\n",
        "from sklearn.model_selection import train_test_split\n",
        "x_train,x_test,y_train,y_test=train_test_split(x,y,test_size=0.3,random_state=6)\n",
        "lr=LogisticRegression()\n",
        "lr.fit(x_train,y_train)\n",
        "y_pred=lr.predict(x_test)\n",
        "accuracy=accuracy_score(y_test,y_pred)\n",
        "print(accuracy)"
      ],
      "metadata": {
        "id": "ynobbTew5fK1"
      },
      "execution_count": null,
      "outputs": []
    },
    {
      "cell_type": "code",
      "source": [
        "from sklearn.metrics import confusion_matrix\n",
        "\n",
        "cm = confusion_matrix(y_test,y_pred)\n",
        "print(\"Confusion Matrix\")\n",
        "print(cm)\n",
        "print(\"Accuracy \" , cm[0][0]+cm[1][1])\n",
        "print(\"Error Rate \" , cm[0][1]+cm[1][0])"
      ],
      "metadata": {
        "id": "oRU9WirF-GwU"
      },
      "execution_count": null,
      "outputs": []
    },
    {
      "cell_type": "code",
      "source": [
        "from sklearn.ensemble import RandomForestClassifier\n",
        "from sklearn.metrics import accuracy_score\n",
        "classifier=RandomForestClassifier(n_estimators=2, criterion=\"entropy\")\n",
        "classifier.fit(x_train,y_train)\n",
        "y_pred=classifier.predict(x_test)\n",
        "accuracy=accuracy_score(y_test,y_pred)\n",
        "print(accuracy)"
      ],
      "metadata": {
        "id": "drTMcmpwxO_S"
      },
      "execution_count": null,
      "outputs": []
    },
    {
      "cell_type": "code",
      "source": [
        "from sklearn.metrics import confusion_matrix\n",
        "\n",
        "cm = confusion_matrix(y_test,y_pred)\n",
        "print(\"Confusion Matrix\")\n",
        "print(cm)\n",
        "print(\"Accuracy \" , cm[0][0]+cm[1][1])\n",
        "print(\"Error Rate \" , cm[0][1]+cm[1][0])"
      ],
      "metadata": {
        "id": "TRvGIf6hy0x-"
      },
      "execution_count": null,
      "outputs": []
    },
    {
      "cell_type": "code",
      "source": [
        "import pickle\n",
        "\n",
        "\n",
        "with open('model.pkl', 'wb') as file:\n",
        "    pickle.dump(lr, file)\n"
      ],
      "metadata": {
        "id": "mjjI3l5MqeCA"
      },
      "execution_count": null,
      "outputs": []
    },
    {
      "cell_type": "code",
      "source": [
        "import pickle\n",
        "\n",
        "\n",
        "with open('model2.pkl', 'wb') as file:\n",
        "    pickle.dump('classifier', file)"
      ],
      "metadata": {
        "id": "LS-AmEBKvFMi"
      },
      "execution_count": null,
      "outputs": []
    },
    {
      "cell_type": "code",
      "source": [
        "with open('model.pkl', 'rb') as file:\n",
        "    model = pickle.load(file)\n"
      ],
      "metadata": {
        "id": "3e4jS133AzNQ"
      },
      "execution_count": null,
      "outputs": []
    },
    {
      "cell_type": "code",
      "source": [
        "def get_input():\n",
        "  id=int(input(\"enter id: \"))\n",
        "  amount=float(input(\"enter Amount\"))\n",
        "  is_declined=input(\"enter is_declined(yes/no)\")\n",
        "  is_declined=is_declined.lower()\n",
        "  if is_declined=='yes':\n",
        "    is_declined=1\n",
        "  else:\n",
        "    is_declined=0\n",
        "  total_number_of_declined_transactions=int(input(\"enter total_number_of_declined_transactions\"))\n",
        "  is_foreign_transaction=input(\"enter is_foreign_transaction(yes/no)\")\n",
        "  is_foreign_transaction=is_foreign_transaction.lower()\n",
        "  if is_foreign_transaction=='yes':\n",
        "    is_foreign_transaction=1\n",
        "  else:\n",
        "    is_foreign_transaction=0\n",
        "\n",
        "\n",
        "\n",
        "  val = np.array([id,amount,is_declined,total_number_of_declined_transactions,is_foreign_transaction])\n",
        "  print(val)\n",
        "  predict(val)\n",
        "\n"
      ],
      "metadata": {
        "id": "kQH_Fhjkql9F"
      },
      "execution_count": null,
      "outputs": []
    },
    {
      "cell_type": "code",
      "source": [
        "def predict(test):\n",
        "  if test[0] and test[1] and test[2] and test[3] and test[4]:\n",
        "    test = test.reshape(1, -1)\n",
        "\n",
        "\n",
        "    res = model.predict(test)\n",
        "    if res[0] == 0:\n",
        "      print(\"Not Fraud\")\n",
        "    else:\n",
        "      print(\"Fraud\")\n",
        "  else:\n",
        "    print(\"Invalid Input , try again\")"
      ],
      "metadata": {
        "id": "9yUm5tGfta57"
      },
      "execution_count": null,
      "outputs": []
    },
    {
      "cell_type": "code",
      "source": [
        "yes_data = data[data['isFradulent'] == 1]\n",
        "print(yes_data)"
      ],
      "metadata": {
        "id": "HeQoV1x2ypkx"
      },
      "execution_count": null,
      "outputs": []
    },
    {
      "cell_type": "code",
      "source": [
        "get_input()"
      ],
      "metadata": {
        "id": "moc4mZf9sVFU"
      },
      "execution_count": null,
      "outputs": []
    },
    {
      "cell_type": "code",
      "source": [
        "import numpy as np\n",
        "import pickle\n",
        "\n",
        "\n",
        "with open('model.pkl', 'rb') as file:\n",
        "    model = pickle.load(file)\n",
        "\n",
        "id = int(input(\"Enter ID: \"))\n",
        "amount = float(input(\"Enter Amount: \"))\n",
        "is_declined = input(\"Enter is_declined (yes/no): \").strip().lower()\n",
        "is_declined = 1 if is_declined == 'yes' else 0\n",
        "total_number_of_declined_transactions = int(input(\"Enter total_number_of_declined_transactions: \"))\n",
        "is_foreign_transaction = input(\"Enter is_foreign_transaction (yes/no): \").strip().lower()\n",
        "is_foreign_transaction = 1 if is_foreign_transaction == 'yes' else 0\n",
        "\n",
        "\n",
        "val = np.array([id, amount, is_declined, total_number_of_declined_transactions, is_foreign_transaction])\n",
        "print(val)\n",
        "val = val.reshape(1, -1)\n",
        "res = model.predict(val)\n",
        "\n",
        "\n",
        "if res[0] == 0:\n",
        "    print(\"Not Fraud\")\n",
        "else:\n",
        "    print(\"Fraud\")\n",
        "\n",
        "\n"
      ],
      "metadata": {
        "id": "DeA59kFWDZZt"
      },
      "execution_count": null,
      "outputs": []
    },
    {
      "cell_type": "code",
      "source": [
        "yes_data = data[data['isFradulent'] == 1]\n",
        "print(yes_data)\n"
      ],
      "metadata": {
        "id": "ccfeIwYLIWVA"
      },
      "execution_count": null,
      "outputs": []
    }
  ]
}